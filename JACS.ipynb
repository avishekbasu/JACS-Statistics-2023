{
 "cells": [
  {
   "cell_type": "code",
   "execution_count": 1,
   "metadata": {},
   "outputs": [
    {
     "name": "stdout",
     "output_type": "stream",
     "text": [
      "Using matplotlib backend: Qt5Agg\n"
     ]
    }
   ],
   "source": [
    "import numpy as np\n",
    "import matplotlib.pyplot as plt\n",
    "from scipy import stats\n",
    "from scipy.stats import skew, kurtosis\n",
    "from scipy.optimize import curve_fit\n",
    "%matplotlib"
   ]
  },
  {
   "cell_type": "code",
   "execution_count": 2,
   "metadata": {},
   "outputs": [],
   "source": [
    "full_sample = np.random.normal(5,10,10000)\n",
    "small_sample = [2,5,10,15,20,30,40,50,60,70,80,100,150,200,500,800,1000,1200,1500,2000,4000,6000]\n",
    "mean_array = []\n",
    "median_array = []\n",
    "std_array =[]\n",
    "for j in small_sample:\n",
    "    mean_array.append(np.mean(np.random.choice(full_sample,j)))\n",
    "    median_array.append(np.median(np.random.choice(full_sample,j)))\n",
    "    std_array.append(np.std(np.random.choice(full_sample,j)))\n",
    "    \n",
    "plt.subplot(3,1,1)\n",
    "plt.plot(small_sample, mean_array, '--o')\n",
    "plt.axhline(np.mean(full_sample), linestyle='--', color='k', label='True mean')\n",
    "plt.ylabel(r'mean')\n",
    "plt.legend()\n",
    "plt.xscale('log')\n",
    "#plt.grid(linewidth=0.5, color='grey', linestyle='--')\n",
    "\n",
    "plt.subplot(3,1,2)\n",
    "plt.plot(small_sample, median_array, '--o')\n",
    "plt.axhline(np.median(full_sample), linestyle='--', color='k', label='True median')\n",
    "plt.ylabel(r'median')\n",
    "plt.legend()\n",
    "plt.xscale('log')\n",
    "\n",
    "plt.subplot(3,1,3)\n",
    "plt.plot(small_sample, std_array, '--o')\n",
    "plt.axhline(np.std(full_sample), linestyle='--', color='k', label=r'True $\\sigma$')\n",
    "plt.ylabel(r'$\\sigma$')\n",
    "plt.xscale('log')\n",
    "\n",
    "plt.xlabel(r'Sample size')\n",
    "plt.legend()\n",
    "plt.show()"
   ]
  },
  {
   "cell_type": "code",
   "execution_count": 3,
   "metadata": {},
   "outputs": [],
   "source": [
    "plt.hist(full_sample, bins=40, histtype='step', color='k', linewidth=2)\n",
    "plt.xlabel(r'$x$')\n",
    "plt.ylabel('Number')\n",
    "plt.show()"
   ]
  },
  {
   "cell_type": "code",
   "execution_count": 4,
   "metadata": {},
   "outputs": [],
   "source": [
    "## Showing the effect of binning on the histogram, i.e. the shape of the distribution is highly dependent on the number of bins\n",
    "## or in other words the bin size.\n",
    "plt.hist(full_sample, bins=30, histtype='step', density=True, label='30 bins',color='k')\n",
    "plt.hist(full_sample, bins=10, histtype='step', density=True, label='10 bins', color='r')\n",
    "plt.hist(full_sample, bins=100, histtype='step', density=True, label='100 bins', color='blue')\n",
    "plt.legend()\n",
    "#plt.axvline(np.mean(full_sample), color='r')\n",
    "plt.xlabel(r'$x$')\n",
    "plt.ylabel(r'$P(x)$')\n",
    "plt.show()"
   ]
  },
  {
   "cell_type": "code",
   "execution_count": 5,
   "metadata": {},
   "outputs": [
    {
     "name": "stdout",
     "output_type": "stream",
     "text": [
      "2.0995156854262422 5.7366680737241555\n",
      "-1.1195272472928222 2.009390593614482\n",
      "0.05072823868057117 -0.03127714860336539\n"
     ]
    }
   ],
   "source": [
    "### Example of asymetric distributions and computing their skewness and kurtosis\n",
    "plt.subplot(1,3,1)\n",
    "plt.title('Exponential \\n Right skewed')\n",
    "plt.hist(np.random.exponential(1,10000), bins=20, histtype='step', color='k', density=True)\n",
    "sk1 = skew(np.random.exponential(1,10000))\n",
    "krt1 = kurtosis(np.random.exponential(1,10000))\n",
    "print (sk1, krt1)\n",
    "plt.ylabel('P(x)')\n",
    "plt.xlabel('x')\n",
    "plt.subplot(1,3,2)\n",
    "plt.title('Weibull \\n Left skewed')\n",
    "plt.hist(np.random.weibull(150,10000), bins=20, histtype='step', color='k', density=True)\n",
    "plt.xlabel('x')\n",
    "sk2 = skew(np.random.weibull(150,10000))\n",
    "krt2 = kurtosis(np.random.weibull(150,10000))\n",
    "print (sk2, krt2)\n",
    "plt.subplot(1,3,3)\n",
    "plt.title('Normal \\n Symmetric')\n",
    "plt.hist(np.random.normal(2, 0.5,10000), bins=20, histtype='step', color='k', density=True)\n",
    "plt.xlabel('x')\n",
    "sk3 = skew(np.random.normal(2, 0.5,10000))\n",
    "krt3 = kurtosis(np.random.normal(2, 0.5,10000))\n",
    "print (sk3, krt3)\n",
    "plt.show()\n"
   ]
  },
  {
   "cell_type": "code",
   "execution_count": 6,
   "metadata": {},
   "outputs": [
    {
     "name": "stdout",
     "output_type": "stream",
     "text": [
      "0.682011\n"
     ]
    }
   ],
   "source": [
    "## Gaussian distribution and its confidence interval\n",
    "def find_data_vol(start, end, data):\n",
    "    logical_loc = np.logical_and(data>start, data<end)\n",
    "    number_of_points = len (np.where(logical_loc == True)[0])\n",
    "    return number_of_points\n",
    "\n",
    "\n",
    "\n",
    "gaussian_distribution = np.random.normal(0.0,1.0, 1000000)\n",
    "\n",
    "num_points = find_data_vol(-1,1,gaussian_distribution)\n",
    "print (num_points/len(gaussian_distribution))\n",
    "\n",
    "plt.title('Normal distribution')\n",
    "plt.hist(gaussian_distribution, bins=100, histtype='step', color='k', density=True)\n",
    "plt.axvline(-1, color='blue', label=r'$\\sigma$')\n",
    "plt.axvline(1, color='blue')\n",
    "plt.axvline(-2, color='red', label=r'$2\\sigma$')\n",
    "plt.axvline(2, color='red')\n",
    "plt.axvline(-3, color='green', label=r'$3\\sigma$')\n",
    "plt.axvline(3, color='green')\n",
    "plt.axvline(-5, color='orange', label=r'$5\\sigma$')\n",
    "plt.axvline(5, color='orange')\n",
    "plt.xlabel('x')\n",
    "plt.ylabel('Density')\n",
    "plt.legend()\n",
    "plt.show()\n"
   ]
  },
  {
   "cell_type": "code",
   "execution_count": 7,
   "metadata": {},
   "outputs": [],
   "source": [
    "starts_poits = np.array([1,1.5,2,3,4,5], dtype=float)\n",
    "per_cents = []\n",
    "for j in starts_poits:\n",
    "    num_pts = find_data_vol(-j,j,gaussian_distribution)\n",
    "    percentage = num_pts/len(gaussian_distribution)\n",
    "    per_cents.append(percentage*100)\n",
    "\n",
    "plt.plot(starts_poits,per_cents,'X-', color='k')\n",
    "plt.ylabel('Probability in percent')\n",
    "plt.xlabel(r'$\\sigma$')\n",
    "plt.grid('True')\n",
    "plt.show()"
   ]
  },
  {
   "cell_type": "code",
   "execution_count": 8,
   "metadata": {},
   "outputs": [
    {
     "name": "stdout",
     "output_type": "stream",
     "text": [
      "KstestResult(statistic=0.487, pvalue=0.0)\n"
     ]
    }
   ],
   "source": [
    "## Generating the cumulative distribution function for exponential and normal distribution generated above and perform\n",
    "## a two sample K-S test.\n",
    "normal_dist = np.random.normal(0,2,10000) \n",
    "normal_x = np.sort(normal_dist)\n",
    "normal_cdf = np.arange(len(normal_dist))/float(len(normal_dist))\n",
    "\n",
    "exp_dist = np.random.exponential(1.1,10000)\n",
    "expo_x = np.sort(exp_dist)\n",
    "expo_cdf = np.arange(len(exp_dist))/float(len(exp_dist))\n",
    "\n",
    "plt.plot(normal_x, normal_cdf, label='normal')\n",
    "plt.plot(expo_x, expo_cdf, label='expo')\n",
    "plt.xlabel('x')\n",
    "plt.ylabel('CDF(x)')\n",
    "plt.legend()\n",
    "plt.show()\n",
    "\n",
    "ks_test = stats.ks_2samp(normal_dist, exp_dist)\n",
    "print(ks_test)\n",
    "\n"
   ]
  },
  {
   "cell_type": "code",
   "execution_count": null,
   "metadata": {},
   "outputs": [],
   "source": []
  },
  {
   "cell_type": "code",
   "execution_count": 9,
   "metadata": {},
   "outputs": [
    {
     "name": "stdout",
     "output_type": "stream",
     "text": [
      "variance 0.9929327209906965\n",
      "variance 1.0140800075116658\n",
      "variance 1.0022005779341483\n"
     ]
    }
   ],
   "source": [
    "### Testing the cenral limit theorem, through simulation:\n",
    "uniform_distribution = np.random.uniform(1,3,10000)\n",
    "normal_distribution = np.random.normal(2,0.5,10000)\n",
    "exponential_distribution = np.random.exponential(2.0, 10000)\n",
    "\n",
    "mean_samples_uniform = []\n",
    "mean_samples_normal = []\n",
    "mean_samples_exponential = []\n",
    "\n",
    "S_size = 5000\n",
    "\n",
    "def compute_Zn(full_dist, sample_size):\n",
    "    mean = np.mean(full_dist)\n",
    "    std = np.std(full_dist)\n",
    "    sub_set = np.random.choice(full_dist, sample_size)\n",
    "    samples_sum = np.sum(sub_set)\n",
    "    zn = (samples_sum - sample_size*mean)/(std*np.sqrt(sample_size))\n",
    "    return zn\n",
    "\n",
    "\n",
    "\n",
    "for _ in range(20000):\n",
    "    mean_samples_uniform.append(compute_Zn(uniform_distribution, S_size))\n",
    "    mean_samples_normal.append(compute_Zn(normal_distribution, S_size))\n",
    "    mean_samples_exponential.append(compute_Zn(exponential_distribution, S_size))\n",
    "    \n",
    "\n",
    "    \n",
    "print ('variance', np.var(mean_samples_uniform))\n",
    "print ('variance', np.var(mean_samples_normal))\n",
    "print ('variance', np.var(mean_samples_exponential))\n",
    "plt.subplot(3,2,1)\n",
    "plt.hist(uniform_distribution, bins=30, histtype='step', label='Uniform', color='k', linewidth=2.5)\n",
    "plt.legend()\n",
    "plt.subplot(3,2,2)\n",
    "plt.hist(mean_samples_uniform, bins=30, histtype='step', label=r'$P(Z_n)$', color='red', linewidth=2.5)\n",
    "plt.legend()\n",
    "plt.subplot(3,2,3)\n",
    "plt.hist(normal_distribution, bins=30, histtype='step', label='Normal', color='k', linewidth=2.5)\n",
    "plt.legend()\n",
    "plt.subplot(3,2,4)\n",
    "plt.hist(mean_samples_normal, bins=30, histtype='step', label=r'$P(Z_n)$', color='red', linewidth=2.5)\n",
    "plt.legend()\n",
    "plt.subplot(3,2,5)\n",
    "plt.hist(exponential_distribution, bins=30, histtype='step', label='Exponential', color='k', linewidth=2.5)\n",
    "plt.legend()\n",
    "plt.subplot(3,2,6)\n",
    "plt.hist(mean_samples_exponential, bins=30, histtype='step', label=r'$P(Z_n)$', color='red', linewidth=2.5)\n",
    "plt.legend()\n",
    "plt.show()"
   ]
  },
  {
   "cell_type": "code",
   "execution_count": 82,
   "metadata": {},
   "outputs": [],
   "source": [
    "### Fitting for a staright line:\n",
    "## Part1 simulate the data here!\n",
    "\n",
    "def straight_line(t, m,c):\n",
    "    return m*t +c\n",
    "\n",
    "t = np.linspace(1,5, 100)\n",
    "y = straight_line(t, 2,-10)\n",
    "index = np.random.choice(np.arange(len(t)), 30, replace=False)\n",
    "\n",
    "\n",
    "err =  np.random.normal(0,0.5,len(y))\n",
    "y_data = y + err\n",
    "\n",
    "x_data = t[index]\n",
    "y_data = y_data[index]\n",
    "y_err = err[index]\n",
    "\n",
    "plt.errorbar(x_data, y_data, y_err,fmt='o', color='k', capsize=2)\n",
    "plt.xlabel('x')\n",
    "plt.ylabel('y')\n",
    "plt.show()\n",
    "\n"
   ]
  },
  {
   "cell_type": "code",
   "execution_count": 76,
   "metadata": {},
   "outputs": [
    {
     "name": "stdout",
     "output_type": "stream",
     "text": [
      "[  2.01192435 -10.01952915] [0.0120024 0.0361541]\n"
     ]
    }
   ],
   "source": [
    "### Performing a normal fitting with the simulated data above.\n",
    "## Fit the straight line as we alreday know that the model is a straight line.\n",
    "popt, pcov = curve_fit(straight_line, x_data, y_data, sigma=y_err)\n",
    "best_fit_vales = popt\n",
    "error_on_fit_params = np.sqrt(np.diag(pcov))\n",
    "plt.errorbar(x_data, y_data, y_err,fmt='o', color='k', capsize=2, label='Data')\n",
    "plt.plot(x_data,straight_line(x_data,*popt), color='blue', label='Model')\n",
    "plt.xlabel('x')\n",
    "plt.ylabel('y')\n",
    "plt.legend()\n",
    "plt.show()\n",
    "\n",
    "print (best_fit_vales, error_on_fit_params)"
   ]
  },
  {
   "cell_type": "code",
   "execution_count": 68,
   "metadata": {},
   "outputs": [],
   "source": [
    "## fit using the technique of bootstapping the data.\n",
    "m_array=[]\n",
    "c_array =[]\n",
    "\n",
    "for k in range(5000):\n",
    "    bootstrap_y = []\n",
    "    for j in range(len(x_data)):\n",
    "        y_sim = np.random.normal(y_data[j], np.abs(y_err[j]), 1)\n",
    "        bootstrap_y.append(y_sim[0])\n",
    "    #plt.plot(x_data, bootstrap_y,'o', color='k', label='simulated')\n",
    "    #plt.errorbar(x_data, y_data, y_err,fmt='o', color='r', capsize=2, label='original_data')\n",
    "    #plt.xlabel('x')\n",
    "    #plt.ylabel('y')\n",
    "    #plt.legend()\n",
    "    #plt.show()\n",
    "    #print (bootstrap_y)\n",
    "    popt, pcov = curve_fit(straight_line, x_data, np.array(bootstrap_y))\n",
    "    m_array.append(popt[0])\n",
    "    c_array.append(popt[1])\n",
    "    \n",
    "\n",
    "plt.subplot(1,3,1)\n",
    "plt.hist(m_array, bins=30, histtype='step', color='red', hatch='/', density=True)\n",
    "plt.xlabel('m')\n",
    "plt.ylabel('Density')\n",
    "plt.subplot(1,3,2)\n",
    "plt.hist(c_array, bins=30, histtype='step', color='green', hatch='/', density=True)\n",
    "plt.xlabel('c')\n",
    "plt.subplot(1,3,3)\n",
    "plt.plot(c_array, m_array, 'o', color='k', alpha=0.1)\n",
    "plt.xlabel('c')\n",
    "plt.ylabel('m')\n",
    "plt.show()\n",
    "\n",
    "    "
   ]
  },
  {
   "cell_type": "code",
   "execution_count": 77,
   "metadata": {},
   "outputs": [],
   "source": [
    "for j in range(len(m_array)):\n",
    "    plt.plot(x_data, straight_line(x_data,m_array[j],c_array[j]), alpha=0.01, color='skyblue')\n",
    "plt.errorbar(x_data, y_data, y_err,fmt='o', color='k', capsize=2, label='Data')\n",
    "plt.xlabel('x')\n",
    "plt.ylabel('y')\n",
    "plt.show()"
   ]
  },
  {
   "cell_type": "code",
   "execution_count": 61,
   "metadata": {},
   "outputs": [],
   "source": [
    "H, xedges, yedges = np.histogram2d(c_array, m_array, bins=150, density=True)\n",
    "H = H.T\n",
    "plt.imshow(H, interpolation='nearest', cmap='Blues', origin='lower', aspect='auto', extent=[xedges[0], xedges[-1], yedges[0], yedges[-1]])\n",
    "plt.xlabel('c')\n",
    "plt.ylabel('m')\n",
    "#plt.colorbar()\n",
    "plt.show()"
   ]
  },
  {
   "cell_type": "code",
   "execution_count": 90,
   "metadata": {},
   "outputs": [
    {
     "name": "stdout",
     "output_type": "stream",
     "text": [
      "[ 0.01766075  1.86842955 -9.86337101]\n",
      "[  2.01192435 -10.01952915] [0.0120024 0.0361541]\n"
     ]
    }
   ],
   "source": [
    "def parabola(t,a,b,c):\n",
    "    return a*(t**2) +b*t +c \n",
    "\n",
    "popt2, pcov2 = curve_fit(parabola, x_data, y_data, sigma=y_err, p0=[0.01, 2.0, -8.0])\n",
    "best_fit_vales2 = popt2\n",
    "print(best_fit_vales2)\n",
    "x_array = np.linspace(x_data.min(), x_data.max(), 100)\n",
    "error_on_fit_params2 = np.sqrt(np.diag(pcov2))\n",
    "plt.errorbar(x_data, y_data, y_err,fmt='o', color='k', capsize=2, label='Data')\n",
    "plt.plot(x_data,straight_line(x_data,*popt), color='blue', label='linear')\n",
    "plt.plot(x_array,parabola(x_array,*popt2), color='red', label='quadratic')\n",
    "plt.xlabel('x')\n",
    "plt.ylabel('y')\n",
    "plt.legend()\n",
    "plt.show()\n",
    "\n",
    "print (best_fit_vales, error_on_fit_params)"
   ]
  },
  {
   "cell_type": "code",
   "execution_count": 89,
   "metadata": {},
   "outputs": [
    {
     "name": "stdout",
     "output_type": "stream",
     "text": [
      "1.1877878257791716 0.8876634005997952\n"
     ]
    }
   ],
   "source": [
    "### Computing reduced chi-square\n",
    "def reduced_chi_sqr(data, model, error, model_param_num):\n",
    "    factor1 = (data - model)/error\n",
    "    dof = len(data) - model_param_num\n",
    "    red_chsq = (1.0/float(dof))*np.sum(factor1*factor1)\n",
    "    return red_chsq\n",
    "\n",
    "\n",
    "red_chsq_linear = reduced_chi_sqr(y_data, straight_line(x_data,*popt), y_err, 2.0)\n",
    "red_chsq_quadratic = reduced_chi_sqr(y_data, parabola(x_data,*popt2), y_err, 3.0)\n",
    "\n",
    "print(red_chsq_linear, red_chsq_quadratic)"
   ]
  },
  {
   "cell_type": "code",
   "execution_count": 113,
   "metadata": {},
   "outputs": [],
   "source": [
    "### Correlation coefficient \n",
    "x_corr = np.linspace(2,4,50)\n",
    "noise = np.random.normal(0,1,len(x_corr))\n",
    "y_corr = 2*x_corr +noise\n",
    "y_anti = -3.*x_corr +noise\n",
    "y_uncorr = np.random.uniform(2,4,len(x_corr))\n",
    "\n",
    "plt.subplot(1,3,1)\n",
    "plt.title('Correlated')\n",
    "plt.plot(x_corr, y_corr, 'o')\n",
    "plt.xlabel('x')\n",
    "plt.ylabel('y')\n",
    "plt.subplot(1,3,2)\n",
    "plt.title('Anti-correlated')\n",
    "plt.plot(x_corr, y_anti, 'o')\n",
    "plt.xlabel('x')\n",
    "plt.subplot(1,3,3)\n",
    "plt.title('Uncorrelated')\n",
    "plt.plot(x_corr, y_uncorr, 'o')\n",
    "plt.xlabel('x')\n",
    "plt.show()"
   ]
  },
  {
   "cell_type": "code",
   "execution_count": 120,
   "metadata": {},
   "outputs": [
    {
     "name": "stdout",
     "output_type": "stream",
     "text": [
      "0.7764469502889605 0.7759566993703786 0.026184882675821024\n",
      "-0.0010153367500045159 0.1428719524064705\n",
      "S/N= 5.434565267785871\n"
     ]
    }
   ],
   "source": [
    "## Bootstrapping method to derive uncertainity on the correlation coefficient\n",
    "\n",
    "def corr_uncertain(x,y,frac, nrun):\n",
    "    num_data = int(0.8*len(x))\n",
    "    index = np.arange(len(x))\n",
    "    corr_dist =[]\n",
    "    for _ in range(nrun):\n",
    "        index_choose = np.random.choice(index, num_data, replace=False)\n",
    "        x_subset = x[index_choose]\n",
    "        y_subset = y[index_choose]\n",
    "        corr_dist.append(stats.pearsonr(x_subset,y_subset)[0])\n",
    "    return corr_dist\n",
    "\n",
    "def corr_control(x,y,nrun):\n",
    "    x_low = x.min()\n",
    "    x_high = x.max()\n",
    "    y_low = y.min()\n",
    "    y_high = y.max()\n",
    "    corr_rand = []\n",
    "    for _ in range(nrun):\n",
    "        x_vals = np.random.uniform(x_low, x_high, len(x))\n",
    "        y_vals = np.random.uniform(y_low, y_high, len(y))\n",
    "        corr_rand.append(stats.pearsonr(x_vals,y_vals)[0])\n",
    "    return corr_rand\n",
    "    \n",
    "\n",
    "corr = stats.pearsonr(x_corr, y_corr)\n",
    "correlation_distribution = corr_uncertain(x_corr, y_corr,0.8,10000)\n",
    "print (corr[0], np.mean(correlation_distribution), np.std(correlation_distribution))\n",
    "correlation_random = corr_control(x_corr, y_corr, 50000)\n",
    "print(np.mean(correlation_random), np.std(correlation_random))\n",
    "plt.hist(correlation_distribution, bins=40, density=True,histtype='step', color='green', linewidth=2.5, label='Correlation from data')\n",
    "plt.hist(correlation_random, bins=40, histtype='step', density=True, color='k', linewidth=2, hatch='X', label='uncorrelated')\n",
    "plt.legend()\n",
    "plt.ylabel('c.c density')\n",
    "plt.xlabel('c.c')\n",
    "plt.show()\n",
    "print ('S/N=', corr[0]/np.std(correlation_random))"
   ]
  },
  {
   "cell_type": "code",
   "execution_count": null,
   "metadata": {},
   "outputs": [],
   "source": []
  }
 ],
 "metadata": {
  "kernelspec": {
   "display_name": "Python 3",
   "language": "python",
   "name": "python3"
  },
  "language_info": {
   "codemirror_mode": {
    "name": "ipython",
    "version": 3
   },
   "file_extension": ".py",
   "mimetype": "text/x-python",
   "name": "python",
   "nbconvert_exporter": "python",
   "pygments_lexer": "ipython3",
   "version": "3.8.5"
  }
 },
 "nbformat": 4,
 "nbformat_minor": 4
}
